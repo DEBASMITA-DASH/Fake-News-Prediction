{
  "nbformat": 4,
  "nbformat_minor": 0,
  "metadata": {
    "colab": {
      "name": "Fake News.ipynb",
      "provenance": [],
      "collapsed_sections": [],
      "authorship_tag": "ABX9TyMGmecJuVStINxLvVmx1VsP",
      "include_colab_link": true
    },
    "kernelspec": {
      "name": "python3",
      "display_name": "Python 3"
    },
    "language_info": {
      "name": "python"
    }
  },
  "cells": [
    {
      "cell_type": "markdown",
      "metadata": {
        "id": "view-in-github",
        "colab_type": "text"
      },
      "source": [
        "<a href=\"https://colab.research.google.com/github/DEBASMITA-DASH/Fake-News-Prediction/blob/main/Fake_News.ipynb\" target=\"_parent\"><img src=\"https://colab.research.google.com/assets/colab-badge.svg\" alt=\"Open In Colab\"/></a>"
      ]
    },
    {
      "cell_type": "code",
      "metadata": {
        "id": "ZytvcSKMmhzU"
      },
      "source": [
        "import numpy as np\n",
        "import pandas as pd\n",
        "import re   #regular expression - needed for searching text in a document\n",
        "from nltk.corpus import stopwords   #stopwords (a,the,I, who, what - not much imp words in a para) we need to remove such words in this context\n",
        "from nltk.stem.porter import PorterStemmer    #stemming - remove prefix and suffix and returns the rootword\n",
        "from sklearn.feature_extraction.text import TfidfVectorizer    # TfidfVectorizer is used to convert text to numerical values\n",
        "from sklearn.model_selection import train_test_split\n",
        "from sklearn.linear_model import LogisticRegression\n",
        "from sklearn.metrics import accuracy_score"
      ],
      "execution_count": 5,
      "outputs": []
    },
    {
      "cell_type": "markdown",
      "metadata": {
        "id": "_4Wymaf-Z2JA"
      },
      "source": [
        "## 0 : Fake News\n",
        "## 1 : Real News"
      ]
    },
    {
      "cell_type": "code",
      "metadata": {
        "colab": {
          "base_uri": "https://localhost:8080/"
        },
        "id": "6xLWQ3J9RzT2",
        "outputId": "87d62b7d-65e3-47e8-81e6-31d56d6c91f2"
      },
      "source": [
        "import nltk\n",
        "nltk.download('stopwords')"
      ],
      "execution_count": 6,
      "outputs": [
        {
          "output_type": "stream",
          "name": "stdout",
          "text": [
            "[nltk_data] Downloading package stopwords to /root/nltk_data...\n",
            "[nltk_data]   Unzipping corpora/stopwords.zip.\n"
          ]
        },
        {
          "output_type": "execute_result",
          "data": {
            "text/plain": [
              "True"
            ]
          },
          "metadata": {},
          "execution_count": 6
        }
      ]
    },
    {
      "cell_type": "code",
      "metadata": {
        "colab": {
          "base_uri": "https://localhost:8080/"
        },
        "id": "spwQTirdSVeu",
        "outputId": "35919619-b7dc-47a6-ae0c-71607f104d41"
      },
      "source": [
        "print(stopwords.words('english'))   #the words to be removed"
      ],
      "execution_count": 7,
      "outputs": [
        {
          "output_type": "stream",
          "name": "stdout",
          "text": [
            "['i', 'me', 'my', 'myself', 'we', 'our', 'ours', 'ourselves', 'you', \"you're\", \"you've\", \"you'll\", \"you'd\", 'your', 'yours', 'yourself', 'yourselves', 'he', 'him', 'his', 'himself', 'she', \"she's\", 'her', 'hers', 'herself', 'it', \"it's\", 'its', 'itself', 'they', 'them', 'their', 'theirs', 'themselves', 'what', 'which', 'who', 'whom', 'this', 'that', \"that'll\", 'these', 'those', 'am', 'is', 'are', 'was', 'were', 'be', 'been', 'being', 'have', 'has', 'had', 'having', 'do', 'does', 'did', 'doing', 'a', 'an', 'the', 'and', 'but', 'if', 'or', 'because', 'as', 'until', 'while', 'of', 'at', 'by', 'for', 'with', 'about', 'against', 'between', 'into', 'through', 'during', 'before', 'after', 'above', 'below', 'to', 'from', 'up', 'down', 'in', 'out', 'on', 'off', 'over', 'under', 'again', 'further', 'then', 'once', 'here', 'there', 'when', 'where', 'why', 'how', 'all', 'any', 'both', 'each', 'few', 'more', 'most', 'other', 'some', 'such', 'no', 'nor', 'not', 'only', 'own', 'same', 'so', 'than', 'too', 'very', 's', 't', 'can', 'will', 'just', 'don', \"don't\", 'should', \"should've\", 'now', 'd', 'll', 'm', 'o', 're', 've', 'y', 'ain', 'aren', \"aren't\", 'couldn', \"couldn't\", 'didn', \"didn't\", 'doesn', \"doesn't\", 'hadn', \"hadn't\", 'hasn', \"hasn't\", 'haven', \"haven't\", 'isn', \"isn't\", 'ma', 'mightn', \"mightn't\", 'mustn', \"mustn't\", 'needn', \"needn't\", 'shan', \"shan't\", 'shouldn', \"shouldn't\", 'wasn', \"wasn't\", 'weren', \"weren't\", 'won', \"won't\", 'wouldn', \"wouldn't\"]\n"
          ]
        }
      ]
    },
    {
      "cell_type": "markdown",
      "metadata": {
        "id": "xxNMHStdS4Ol"
      },
      "source": [
        "# Data Pre-processsing\n"
      ]
    },
    {
      "cell_type": "code",
      "metadata": {
        "id": "sLBHoH67SVj8",
        "colab": {
          "base_uri": "https://localhost:8080/",
          "height": 203
        },
        "outputId": "495ddb40-45fe-4045-a163-7765bb37ced1"
      },
      "source": [
        "df = pd.read_csv('/content/Fake Dataset.csv',encoding= 'unicode_escape')\n",
        "df.head()"
      ],
      "execution_count": 8,
      "outputs": [
        {
          "output_type": "execute_result",
          "data": {
            "text/html": [
              "<div>\n",
              "<style scoped>\n",
              "    .dataframe tbody tr th:only-of-type {\n",
              "        vertical-align: middle;\n",
              "    }\n",
              "\n",
              "    .dataframe tbody tr th {\n",
              "        vertical-align: top;\n",
              "    }\n",
              "\n",
              "    .dataframe thead th {\n",
              "        text-align: right;\n",
              "    }\n",
              "</style>\n",
              "<table border=\"1\" class=\"dataframe\">\n",
              "  <thead>\n",
              "    <tr style=\"text-align: right;\">\n",
              "      <th></th>\n",
              "      <th>id</th>\n",
              "      <th>title</th>\n",
              "      <th>text</th>\n",
              "      <th>source</th>\n",
              "      <th>label</th>\n",
              "    </tr>\n",
              "  </thead>\n",
              "  <tbody>\n",
              "    <tr>\n",
              "      <th>0</th>\n",
              "      <td>1914947530</td>\n",
              "      <td>Syria attack symptoms consistent with nerve ag...</td>\n",
              "      <td>Wed 05 Apr 2017 Syria attack symptoms consiste...</td>\n",
              "      <td>nna</td>\n",
              "      <td>0</td>\n",
              "    </tr>\n",
              "    <tr>\n",
              "      <th>1</th>\n",
              "      <td>1914947532</td>\n",
              "      <td>Homs governor says U.S. attack caused deaths b...</td>\n",
              "      <td>Fri 07 Apr 2017 at 0914 Homs governor says U.S...</td>\n",
              "      <td>nna</td>\n",
              "      <td>0</td>\n",
              "    </tr>\n",
              "    <tr>\n",
              "      <th>2</th>\n",
              "      <td>1914947533</td>\n",
              "      <td>Death toll from Aleppo bomb attack at least 112</td>\n",
              "      <td>Sun 16 Apr 2017 Death toll from Aleppo bomb at...</td>\n",
              "      <td>nna</td>\n",
              "      <td>0</td>\n",
              "    </tr>\n",
              "    <tr>\n",
              "      <th>3</th>\n",
              "      <td>1914947534</td>\n",
              "      <td>Aleppo bomb blast kills six Syrian state TV</td>\n",
              "      <td>Wed 19 Apr 2017 Aleppo bomb blast kills six Sy...</td>\n",
              "      <td>nna</td>\n",
              "      <td>0</td>\n",
              "    </tr>\n",
              "    <tr>\n",
              "      <th>4</th>\n",
              "      <td>1914947535</td>\n",
              "      <td>29 Syria Rebels Dead in Fighting for Key Alepp...</td>\n",
              "      <td>Sun 10 Jul 2016 29 Syria Rebels Dead in Fighti...</td>\n",
              "      <td>nna</td>\n",
              "      <td>0</td>\n",
              "    </tr>\n",
              "  </tbody>\n",
              "</table>\n",
              "</div>"
            ],
            "text/plain": [
              "           id                                              title  ... source label\n",
              "0  1914947530  Syria attack symptoms consistent with nerve ag...  ...    nna     0\n",
              "1  1914947532  Homs governor says U.S. attack caused deaths b...  ...    nna     0\n",
              "2  1914947533    Death toll from Aleppo bomb attack at least 112  ...    nna     0\n",
              "3  1914947534        Aleppo bomb blast kills six Syrian state TV  ...    nna     0\n",
              "4  1914947535  29 Syria Rebels Dead in Fighting for Key Alepp...  ...    nna     0\n",
              "\n",
              "[5 rows x 5 columns]"
            ]
          },
          "metadata": {},
          "execution_count": 8
        }
      ]
    },
    {
      "cell_type": "code",
      "metadata": {
        "id": "8-BIbqT8TNkL",
        "colab": {
          "base_uri": "https://localhost:8080/"
        },
        "outputId": "e6e89247-e51d-47d1-efcb-4994238991ad"
      },
      "source": [
        "df.isnull().sum()"
      ],
      "execution_count": 9,
      "outputs": [
        {
          "output_type": "execute_result",
          "data": {
            "text/plain": [
              "id        0\n",
              "title     0\n",
              "text      0\n",
              "source    0\n",
              "label     0\n",
              "dtype: int64"
            ]
          },
          "metadata": {},
          "execution_count": 9
        }
      ]
    },
    {
      "cell_type": "code",
      "metadata": {
        "id": "ifVLJwulSh6x"
      },
      "source": [
        "#Merging the title and source columns into a new column\n",
        "df['content'] = df['title']+ ' : '+df['source']"
      ],
      "execution_count": 10,
      "outputs": []
    },
    {
      "cell_type": "code",
      "metadata": {
        "id": "TOpBgdY-Sh-R"
      },
      "source": [
        "\n"
      ],
      "execution_count": 10,
      "outputs": []
    },
    {
      "cell_type": "code",
      "metadata": {
        "id": "rZEzy74uRzXP",
        "colab": {
          "base_uri": "https://localhost:8080/",
          "height": 287
        },
        "outputId": "74626a0c-ced8-4931-89c6-3a903f054185"
      },
      "source": [
        "df.head()"
      ],
      "execution_count": 11,
      "outputs": [
        {
          "output_type": "execute_result",
          "data": {
            "text/html": [
              "<div>\n",
              "<style scoped>\n",
              "    .dataframe tbody tr th:only-of-type {\n",
              "        vertical-align: middle;\n",
              "    }\n",
              "\n",
              "    .dataframe tbody tr th {\n",
              "        vertical-align: top;\n",
              "    }\n",
              "\n",
              "    .dataframe thead th {\n",
              "        text-align: right;\n",
              "    }\n",
              "</style>\n",
              "<table border=\"1\" class=\"dataframe\">\n",
              "  <thead>\n",
              "    <tr style=\"text-align: right;\">\n",
              "      <th></th>\n",
              "      <th>id</th>\n",
              "      <th>title</th>\n",
              "      <th>text</th>\n",
              "      <th>source</th>\n",
              "      <th>label</th>\n",
              "      <th>content</th>\n",
              "    </tr>\n",
              "  </thead>\n",
              "  <tbody>\n",
              "    <tr>\n",
              "      <th>0</th>\n",
              "      <td>1914947530</td>\n",
              "      <td>Syria attack symptoms consistent with nerve ag...</td>\n",
              "      <td>Wed 05 Apr 2017 Syria attack symptoms consiste...</td>\n",
              "      <td>nna</td>\n",
              "      <td>0</td>\n",
              "      <td>Syria attack symptoms consistent with nerve ag...</td>\n",
              "    </tr>\n",
              "    <tr>\n",
              "      <th>1</th>\n",
              "      <td>1914947532</td>\n",
              "      <td>Homs governor says U.S. attack caused deaths b...</td>\n",
              "      <td>Fri 07 Apr 2017 at 0914 Homs governor says U.S...</td>\n",
              "      <td>nna</td>\n",
              "      <td>0</td>\n",
              "      <td>Homs governor says U.S. attack caused deaths b...</td>\n",
              "    </tr>\n",
              "    <tr>\n",
              "      <th>2</th>\n",
              "      <td>1914947533</td>\n",
              "      <td>Death toll from Aleppo bomb attack at least 112</td>\n",
              "      <td>Sun 16 Apr 2017 Death toll from Aleppo bomb at...</td>\n",
              "      <td>nna</td>\n",
              "      <td>0</td>\n",
              "      <td>Death toll from Aleppo bomb attack at least 11...</td>\n",
              "    </tr>\n",
              "    <tr>\n",
              "      <th>3</th>\n",
              "      <td>1914947534</td>\n",
              "      <td>Aleppo bomb blast kills six Syrian state TV</td>\n",
              "      <td>Wed 19 Apr 2017 Aleppo bomb blast kills six Sy...</td>\n",
              "      <td>nna</td>\n",
              "      <td>0</td>\n",
              "      <td>Aleppo bomb blast kills six Syrian state TV : nna</td>\n",
              "    </tr>\n",
              "    <tr>\n",
              "      <th>4</th>\n",
              "      <td>1914947535</td>\n",
              "      <td>29 Syria Rebels Dead in Fighting for Key Alepp...</td>\n",
              "      <td>Sun 10 Jul 2016 29 Syria Rebels Dead in Fighti...</td>\n",
              "      <td>nna</td>\n",
              "      <td>0</td>\n",
              "      <td>29 Syria Rebels Dead in Fighting for Key Alepp...</td>\n",
              "    </tr>\n",
              "  </tbody>\n",
              "</table>\n",
              "</div>"
            ],
            "text/plain": [
              "           id  ...                                            content\n",
              "0  1914947530  ...  Syria attack symptoms consistent with nerve ag...\n",
              "1  1914947532  ...  Homs governor says U.S. attack caused deaths b...\n",
              "2  1914947533  ...  Death toll from Aleppo bomb attack at least 11...\n",
              "3  1914947534  ...  Aleppo bomb blast kills six Syrian state TV : nna\n",
              "4  1914947535  ...  29 Syria Rebels Dead in Fighting for Key Alepp...\n",
              "\n",
              "[5 rows x 6 columns]"
            ]
          },
          "metadata": {},
          "execution_count": 11
        }
      ]
    },
    {
      "cell_type": "code",
      "metadata": {
        "id": "O4mco8JfY95x"
      },
      "source": [
        "#Deleting column title and source"
      ],
      "execution_count": 12,
      "outputs": []
    },
    {
      "cell_type": "markdown",
      "metadata": {
        "id": "Sg7I7legi6lB"
      },
      "source": [
        "# Stemming\n",
        "###### eg: actor,acting --> act"
      ]
    },
    {
      "cell_type": "code",
      "metadata": {
        "id": "7cLPv3B7i-sr"
      },
      "source": [
        "port_stem = PorterStemmer()"
      ],
      "execution_count": 13,
      "outputs": []
    },
    {
      "cell_type": "code",
      "metadata": {
        "id": "hrOuAMdCi-vA"
      },
      "source": [
        "def stemming(content):\n",
        "    stemmed_content = re.sub('[^a-zA-Z]'  ,  ' ', content)   #removes everything apart from a-z & A-Z & spaces\n",
        "    stemmed_content = stemmed_content.lower()  #converts all letters to lowercase\n",
        "    stemmed_content = stemmed_content.split()  #all the words will be converted into a list\n",
        "\n",
        "    stemmed_content = [port_stem.stem(word) for word in stemmed_content if not word in stopwords.words('english')]\n",
        "                                                            #this performs stemming on all words except stopwords\n",
        "    stemmed_content = ' '.join(stemmed_content)             #joining all the words\n",
        "    return stemmed_content\n"
      ],
      "execution_count": 14,
      "outputs": []
    },
    {
      "cell_type": "code",
      "metadata": {
        "id": "Z4RqQ7ambO-L"
      },
      "source": [
        "df['content'] = df['content'].apply(stemming)"
      ],
      "execution_count": 15,
      "outputs": []
    },
    {
      "cell_type": "code",
      "metadata": {
        "id": "JutQHKe0i-yU"
      },
      "source": [
        "#Seperating the entire data and label into two diff dataframes\n",
        "\n",
        "x = df['content'].values     # only df['content'] --> will give index and then the value. \n",
        "                             # df['content'].values --> will give only the value in an array. \n",
        "y = df['label'].values"
      ],
      "execution_count": 35,
      "outputs": []
    },
    {
      "cell_type": "code",
      "metadata": {
        "id": "d-l7gGVna-Jn"
      },
      "source": [
        "#print(x)\n",
        "#print(y)\n"
      ],
      "execution_count": 39,
      "outputs": []
    },
    {
      "cell_type": "code",
      "metadata": {
        "id": "zLERDySra-MR"
      },
      "source": [
        "# converting the textual data to numerical data\n",
        "vectorizer = TfidfVectorizer()      #tf - gives num values to only the repeated imp words\n",
        "vectorizer.fit(x)\n",
        "\n",
        "x = vectorizer.transform(x)"
      ],
      "execution_count": 36,
      "outputs": []
    },
    {
      "cell_type": "code",
      "metadata": {
        "colab": {
          "base_uri": "https://localhost:8080/"
        },
        "id": "dtFwVlVGa-OL",
        "outputId": "6ca71a2c-7f20-4a63-c607-c872dd369715"
      },
      "source": [
        "print(x)"
      ],
      "execution_count": 37,
      "outputs": [
        {
          "output_type": "stream",
          "name": "stdout",
          "text": [
            "  (0, 737)\t0.33268695746858934\n",
            "  (0, 675)\t0.1123974588039333\n",
            "  (0, 674)\t0.4398385037739128\n",
            "  (0, 471)\t0.31752877227058074\n",
            "  (0, 465)\t0.4143530883600743\n",
            "  (0, 156)\t0.4398385037739128\n",
            "  (0, 71)\t0.154270763028172\n",
            "  (0, 21)\t0.4398385037739128\n",
            "  (1, 612)\t0.34738477945645097\n",
            "  (1, 603)\t0.22200068141769194\n",
            "  (1, 471)\t0.2507844619783276\n",
            "  (1, 407)\t0.30189759411838357\n",
            "  (1, 334)\t0.34738477945645097\n",
            "  (1, 324)\t0.20673629748416938\n",
            "  (1, 301)\t0.30189759411838357\n",
            "  (1, 211)\t0.34738477945645097\n",
            "  (1, 188)\t0.24114602484679362\n",
            "  (1, 122)\t0.3272563792892771\n",
            "  (1, 95)\t0.34738477945645097\n",
            "  (1, 71)\t0.12184316409612725\n",
            "  (2, 702)\t0.47437284668556384\n",
            "  (2, 471)\t0.4933331959701538\n",
            "  (2, 394)\t0.3389939588680877\n",
            "  (2, 188)\t0.47437284668556384\n",
            "  (2, 99)\t0.2929163001914418\n",
            "  :\t:\n",
            "  (800, 224)\t0.5271482201641406\n",
            "  (800, 36)\t0.18014237842437827\n",
            "  (801, 676)\t0.2680381438230018\n",
            "  (801, 599)\t0.39474553415539787\n",
            "  (801, 413)\t0.3291797399815204\n",
            "  (801, 381)\t0.1517457067444092\n",
            "  (801, 270)\t0.5492975843885451\n",
            "  (801, 130)\t0.4560641340426274\n",
            "  (801, 71)\t0.2668752090312662\n",
            "  (801, 36)\t0.2449505015712428\n",
            "  (802, 675)\t0.15174968723354956\n",
            "  (802, 627)\t0.5350119613527945\n",
            "  (802, 595)\t0.3125872703697874\n",
            "  (802, 435)\t0.47619060929060686\n",
            "  (802, 413)\t0.2569092877729142\n",
            "  (802, 381)\t0.1184303792344335\n",
            "  (802, 136)\t0.5350119613527945\n",
            "  (803, 692)\t0.26738101858706614\n",
            "  (803, 676)\t0.2555862598021082\n",
            "  (803, 413)\t0.31388748386522486\n",
            "  (803, 381)\t0.14469626253434315\n",
            "  (803, 358)\t0.4287766760420207\n",
            "  (803, 253)\t0.48679880952424\n",
            "  (803, 195)\t0.4287766760420207\n",
            "  (803, 60)\t0.37289239331415397\n"
          ]
        }
      ]
    },
    {
      "cell_type": "markdown",
      "metadata": {
        "id": "sYO2G2HZ0iVv"
      },
      "source": [
        "##Splitting training and testing data"
      ]
    },
    {
      "cell_type": "code",
      "metadata": {
        "id": "76HzXOaL0g28"
      },
      "source": [
        "x_train, x_test, y_train, y_test = train_test_split(x, y, test_size = 0.3, stratify = y, random_state=50)"
      ],
      "execution_count": 60,
      "outputs": []
    },
    {
      "cell_type": "code",
      "metadata": {
        "id": "MOAzsZzx0g6Z"
      },
      "source": [
        "#Training Model\n",
        "model = LogisticRegression();"
      ],
      "execution_count": 53,
      "outputs": []
    },
    {
      "cell_type": "code",
      "metadata": {
        "colab": {
          "base_uri": "https://localhost:8080/"
        },
        "id": "UvTGDnRY0g8b",
        "outputId": "b54bdbc1-5c45-45ee-ea15-3f650e6cdff0"
      },
      "source": [
        "model.fit(x_train, y_train)"
      ],
      "execution_count": 54,
      "outputs": [
        {
          "output_type": "execute_result",
          "data": {
            "text/plain": [
              "LogisticRegression(C=1.0, class_weight=None, dual=False, fit_intercept=True,\n",
              "                   intercept_scaling=1, l1_ratio=None, max_iter=100,\n",
              "                   multi_class='auto', n_jobs=None, penalty='l2',\n",
              "                   random_state=None, solver='lbfgs', tol=0.0001, verbose=0,\n",
              "                   warm_start=False)"
            ]
          },
          "metadata": {},
          "execution_count": 54
        }
      ]
    },
    {
      "cell_type": "markdown",
      "metadata": {
        "id": "446HX98g4p4L"
      },
      "source": [
        "###Evaluation\n",
        "**Accuracy Scores of training and testing data**"
      ]
    },
    {
      "cell_type": "code",
      "metadata": {
        "colab": {
          "base_uri": "https://localhost:8080/"
        },
        "id": "Ngssuo-54nBQ",
        "outputId": "41b69671-9f83-40c3-a285-7df821ceba31"
      },
      "source": [
        "#Accuracy of Training data\n",
        "x_train_pred = model.predict(x_train)\n",
        "training_accuracy = accuracy_score(x_train_pred, y_train)\n",
        "training_accuracy"
      ],
      "execution_count": 61,
      "outputs": [
        {
          "output_type": "execute_result",
          "data": {
            "text/plain": [
              "0.708185053380783"
            ]
          },
          "metadata": {},
          "execution_count": 61
        }
      ]
    },
    {
      "cell_type": "code",
      "metadata": {
        "colab": {
          "base_uri": "https://localhost:8080/"
        },
        "id": "jpM5boQE46OD",
        "outputId": "18ddb773-3614-4a0b-a7a4-db2d915d06d8"
      },
      "source": [
        "#Accuracy of Testing Data\n",
        "x_test_predict = model.predict(x_test)   \n",
        "testing_accuracy = accuracy_score(x_test_predict, y_test)\n",
        "testing_accuracy"
      ],
      "execution_count": 62,
      "outputs": [
        {
          "output_type": "execute_result",
          "data": {
            "text/plain": [
              "0.7024793388429752"
            ]
          },
          "metadata": {},
          "execution_count": 62
        }
      ]
    },
    {
      "cell_type": "markdown",
      "metadata": {
        "id": "gjjqdfFc6lIs"
      },
      "source": [
        "##Making a Predictive System"
      ]
    },
    {
      "cell_type": "code",
      "metadata": {
        "colab": {
          "base_uri": "https://localhost:8080/"
        },
        "id": "J90R-biD46RZ",
        "outputId": "f149e09a-ee91-4746-896e-15759c34f130"
      },
      "source": [
        "x_new = x_test[51]\n",
        "\n",
        "prediction = model.predict(x_new)\n",
        "print(prediction)\n",
        "\n",
        "if (prediction[0]==1):\n",
        "  print('The news is Real')\n",
        "else:\n",
        "  print('The news is Fake')"
      ],
      "execution_count": 70,
      "outputs": [
        {
          "output_type": "stream",
          "name": "stdout",
          "text": [
            "[0]\n",
            "The news is Fake\n"
          ]
        }
      ]
    },
    {
      "cell_type": "code",
      "metadata": {
        "colab": {
          "base_uri": "https://localhost:8080/"
        },
        "id": "BncF5DlC4nLP",
        "outputId": "08b79f8c-02af-46a4-b34a-e2191bd7d990"
      },
      "source": [
        "#Checking whether model has predicted correctly or not\n",
        "print(y_test[51])"
      ],
      "execution_count": 71,
      "outputs": [
        {
          "output_type": "stream",
          "name": "stdout",
          "text": [
            "0\n"
          ]
        }
      ]
    }
  ]
}